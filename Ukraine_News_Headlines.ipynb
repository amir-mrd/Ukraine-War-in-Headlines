{
 "cells": [
  {
   "cell_type": "markdown",
   "metadata": {},
   "source": [
    "---\n",
    "\n",
    "#### Question: \n",
    "Using *The Guardian* API, compare Australian and United Kingdom headlines about the war in Ukraine. What can we learn about differences and similarities between the news presented to Australia and the UK?\n",
    "\n",
    "#### Data:\n",
    "[The Guardian OpenPlatform](https://open-platform.theguardian.com/access/)\n"
   ]
  },
  {
   "cell_type": "code",
   "execution_count": 1,
   "metadata": {},
   "outputs": [],
   "source": [
    "# importing required libraries for this task\n",
    "\n",
    "import requests\n",
    "import json\n"
   ]
  },
  {
   "cell_type": "markdown",
   "metadata": {},
   "source": [
    "### 1. Question"
   ]
  },
  {
   "cell_type": "markdown",
   "metadata": {},
   "source": [
    "\n",
    "We have a concern if the Gurdian office in Australia and in the UK have the same approach towards the war in Ukraine. Do they seem neutral or they seem to be projectiing a certain attitude towards the war? If the latter, are both offices on the same page or persuing different editorial policies? We can probably best answer these questions by comparing the headlines published in both offices since the begining of the war on the 24th of February 2022. "
   ]
  },
  {
   "cell_type": "markdown",
   "metadata": {},
   "source": [
    "### 2. Data"
   ]
  },
  {
   "cell_type": "code",
   "execution_count": 2,
   "metadata": {},
   "outputs": [
    {
     "data": {
      "text/plain": [
       "36"
      ]
     },
     "execution_count": 2,
     "metadata": {},
     "output_type": "execute_result"
    }
   ],
   "source": [
    "\n",
    "# I loaded the Guardian API key\n",
    "\n",
    "with open('guardian_key.txt', 'r') as file: #Please, insert your key in a file named 'guardian_key.txt'\n",
    "    key = file.read().strip() \n",
    "len(key)"
   ]
  },
  {
   "cell_type": "code",
   "execution_count": 4,
   "metadata": {},
   "outputs": [],
   "source": [
    "baseUrl = 'https://content.guardianapis.com/search?q='\n",
    "searchString = \"Ukraine AND war\"\n",
    "production_office = \"aus\"\n",
    "fromDate = \"2022-02-24\"\n",
    "\n",
    "#I set page-size=150, by default the API returns only 10 results, 200 is...(continued in nextline)  \n",
    "#max but API returns an error most of the time and it is too risky to work with.\n",
    "\n",
    "url = baseUrl+searchString+'&production-office='+production_office+'&from-date='+fromDate+'&page-size=150&api-key='+key\n",
    "#print(url)\n",
    "#I didn't run this line of the code to hide my API key.\n"
   ]
  },
  {
   "cell_type": "code",
   "execution_count": 5,
   "metadata": {},
   "outputs": [],
   "source": [
    "# get data from server\n",
    "response = requests.get(url)"
   ]
  },
  {
   "cell_type": "code",
   "execution_count": 6,
   "metadata": {
    "tags": []
   },
   "outputs": [
    {
     "data": {
      "text/plain": [
       "<Response [200]>"
      ]
     },
     "execution_count": 6,
     "metadata": {},
     "output_type": "execute_result"
    }
   ],
   "source": [
    "response"
   ]
  },
  {
   "cell_type": "code",
   "execution_count": 7,
   "metadata": {},
   "outputs": [],
   "source": [
    "#response.content\n",
    "# I didn't run this line of code to avoid a large cell in the middle of the analysis. \n"
   ]
  },
  {
   "cell_type": "code",
   "execution_count": 8,
   "metadata": {},
   "outputs": [],
   "source": [
    "data = json.loads(response.content)\n",
    "#data\n",
    "# I didn't run this line of code to avoid a large cell in the middle of the analysis. \n"
   ]
  },
  {
   "cell_type": "code",
   "execution_count": 9,
   "metadata": {},
   "outputs": [],
   "source": [
    "results = data['response']['results']\n",
    "#results\n",
    "# I didn't run this line of code to avoid a large cell in the middle of the analysis. \n"
   ]
  },
  {
   "cell_type": "code",
   "execution_count": 10,
   "metadata": {},
   "outputs": [],
   "source": [
    "for result in results:\n",
    "    b1=result['webTitle']\n",
    "    #print(b1)\n",
    "    # I didn't run this line of code to avoid a large cell in the middle of the analysis. \n"
   ]
  },
  {
   "cell_type": "markdown",
   "metadata": {},
   "source": [
    "## Australian Headlines"
   ]
  },
  {
   "cell_type": "code",
   "execution_count": 11,
   "metadata": {
    "collapsed": true
   },
   "outputs": [
    {
     "data": {
      "text/plain": [
       "['Russia-Ukraine war live: Ukraine ‘buying time’ in Bakhmut – as it happened',\n",
       " 'Russia-Ukraine war live: Putin visits Mariupol in first trip to occupied eastern Ukraine – as it happened',\n",
       " 'Russia-Ukraine war live: Ukraine struggling to hold Bakhmut, military sources say — as it happened',\n",
       " 'Russia-Ukraine war live: Ukraine ‘expects possible major Russian offensive this month’ – as it happened',\n",
       " 'Russia-Ukraine war: UN says Russia has committed ‘wide range’ of war crimes; Poland to transfer four MIG-29 planes to Ukraine – as it happened',\n",
       " 'Russia-Ukraine war live: Ukraine aiming for peace summit in February, says foreign minister',\n",
       " 'Russia-Ukraine war live: Bakhmut ‘killing zone’ hampering Wagner – as it happened',\n",
       " 'Russia-Ukraine war: Ukraine first lady urges UK to support special tribunal for Russian war crimes – as it happened',\n",
       " 'Russia-Ukraine war live: Germany to send Leopard 2 tanks to Ukraine, reports say — as it happened ',\n",
       " 'Russia-Ukraine war: Putin replaces general in charge of Russian forces in Ukraine – as it happened',\n",
       " 'Russia-Ukraine war: Biden says decision to send US tanks to Ukraine is ‘no offensive threat’ to Russia',\n",
       " 'Russia-Ukraine war live: Kyiv vows to defend ‘fortress Bakhmut’  – as it happened',\n",
       " 'Russia-Ukraine war live: Moscow cuts oil supply to Poland – as it happened',\n",
       " 'Russia-Ukraine war live: Kyiv and Moscow welcome China’s intervention  – as it happened',\n",
       " 'Russia-Ukraine war live: UN chief believes war in Ukraine ‘will go on’; Putin in Belarus for talks with Lukashenko – as it happened ',\n",
       " 'Russia-Ukraine war live: UK to send tanks to Ukraine as Russian missiles hit multiple cities – as it happened',\n",
       " 'Russia-Ukraine war: more than 100 soldiers returned to Kyiv in prisoner exchange',\n",
       " 'Putin suggests possibility of settlement to end war in Ukraine',\n",
       " 'Russia-Ukraine war live: Putin visits Crimea to mark anniversary of annexation – as it happened',\n",
       " 'Russia-Ukraine war at a glance: what we know on day 389 of the invasion',\n",
       " 'Russia-Ukraine war at a glance: what we know on day 387 of the invasion',\n",
       " 'Russia-Ukraine war at a glance: what we know on day 388 of the invasion',\n",
       " 'Russia-Ukraine war at a glance: what we know on day 385 of the invasion',\n",
       " 'Russia-Ukraine war: Nato seeing start of new Russian offensive already, says Stoltenberg',\n",
       " 'Russia-Ukraine war: US says drone incident with Russia ‘is being investigated’ – as it happened',\n",
       " 'Russia planning major offensive to mark first anniversary of war: Ukraine defence minister',\n",
       " 'Russia-Ukraine war at a glance: what we know on day 383 of the invasion',\n",
       " 'Russia-Ukraine war at a glance: what we know on day 382 of the invasion',\n",
       " '‘Victory for Ukraine’: Shakhtar Donetsk into Europa League last 16',\n",
       " 'Russia-Ukraine war at a glance: what we know on day 381 of the invasion',\n",
       " 'Russia-Ukraine war: Russia accused of demolishing Mariupol theatre ‘to hide war crimes’ – as it happened',\n",
       " 'Russia-Ukraine war at a glance: what we know on day 380 of the invasion',\n",
       " 'Russia-Ukraine war at a glance: what we know on day 391 of the invasion',\n",
       " 'Russia-Ukraine war at a glance: what we know on day 386 of the invasion',\n",
       " 'Russia-Ukraine war at a glance: what we know on day 374 of the invasion',\n",
       " 'Russia-Ukraine war at a glance: what we know on day 384 of the invasion',\n",
       " 'Russia-Ukraine war live: Ukraine declares full control of Lyman – as it happened',\n",
       " 'Russia-Ukraine war at a glance: what we know on day 372 of the invasion',\n",
       " 'Russia-Ukraine war: Zelenskiy says it is ‘obvious’ Putin will not stop with Ukraine; Macron calls for more military support – as it happened',\n",
       " 'Russia-Ukraine war live: death toll rises after Russian strikes across Ukraine; European parliament ‘under cyber-attack’',\n",
       " 'Russia-Ukraine war at a glance: what we know on day 371 of the invasion',\n",
       " 'Russia-Ukraine war: Zelenskiy visits Bakhmut as Putin admits situation in parts of Ukraine ‘extremely difficult’ – as it happened',\n",
       " 'Russia-Ukraine war at a glance: what we know on day 378 of the invasion',\n",
       " 'Russia-Ukraine war: Putin’s ‘travel options extremely limited’ after international criminal court warrant – as it happened',\n",
       " 'Russia-Ukraine war at a glance: what we know on day 377 of the invasion',\n",
       " 'Russia-Ukraine war at a glance: what we know on day 367 of the invasion',\n",
       " 'Russia-Ukraine war at a glance: what we know on day 376 of the invasion',\n",
       " 'Russia-Ukraine war: UK will not send fighter jets to Ukraine ‘if there is a risk to British safety’ – as it happened',\n",
       " 'Russia-Ukraine war at a glance: what we know on day 363 of the invasion',\n",
       " 'Russia-Ukraine war at a glance: what we know on day 373 of the invasion',\n",
       " 'Russia-Ukraine war live: shelling kills three in southern city of Berislav – as it happened ',\n",
       " 'Russia-Ukraine war: US finalising plans to send Patriot missile defence system to Ukraine, reports say – as it happened',\n",
       " 'Russia-Ukraine war at a glance: what we know on day 361 of the invasion',\n",
       " 'Russia-Ukraine war at a glance: what we know on day 370 of the invasion',\n",
       " 'Russia-Ukraine war at a glance: what we know on day 369 of the invasion',\n",
       " 'Russia-Ukraine war live: Putin accuses west of wanting to dismantle Russia – as it happened',\n",
       " 'Russia-Ukraine war at a glance: what we know on day 368 of the invasion',\n",
       " 'Russia-Ukraine war live: death toll in Kherson rises – as it happened',\n",
       " 'Russia-Ukraine war at a glance: what we know on day 356 of the invasion',\n",
       " 'Russia-Ukraine war at a glance: what we know on day 355 of the invasion',\n",
       " 'Russia-Ukraine war live: highest Russian casualties since first week of invasion – as it happened',\n",
       " 'Russia-Ukraine war: Ukrainian missiles attack Russian-occupied Melitopol – as it happened',\n",
       " 'War in Ukraine will not distract European allies from Indo-Pacific, German air force chief says',\n",
       " 'Russia-Ukraine war live: hundreds of thousands without water or power; Russia warns of battle for Kherson in ‘very near future’',\n",
       " 'Russia-Ukraine war at a glance: what we know on day 352 of the invasion',\n",
       " 'Russia-Ukraine war at a glance: what we know on day 360 of the invasion',\n",
       " 'Russia-Ukraine war at a glance: what we know on day 359 of the invasion',\n",
       " ' Russia-Ukraine war at a glance: what we know on day 357 of the invasion',\n",
       " 'Russia-Ukraine war – as it happened: Moscow declares new ‘temporary capital’ for Kherson region after Ukraine retakes city',\n",
       " 'Russia-Ukraine war: Russian booby traps turning Kherson into ‘city of death’, says Ukraine official – as it happened',\n",
       " 'Russia-Ukraine war at a glance: what we know on day 353 of the invasion',\n",
       " 'Russia-Ukraine war at a glance: what we know on day 341 of the invasion',\n",
       " 'Russia-Ukraine war: EU to hold urgent talks over Russian ‘energy war’; Ukraine announces mandatory evacuations – as it happened ',\n",
       " 'Russia-Ukraine war: At least three dead after Russian shelling in Kherson;, Kyiv imposes fresh sanctions on 182 firms – live',\n",
       " 'Russia-Ukraine war: Belarus summons Ukrainian ambassador over missile incident – as it happened',\n",
       " 'Russia-Ukraine war at a glance: what we know on day 338 of the invasion',\n",
       " 'Russia-Ukraine war: Polish president ‘afraid Moscow is preparing new offensive’ – as it happened',\n",
       " 'Russia-Ukraine war at a glance: what we know on day 335 of the invasion',\n",
       " 'Russia-Ukraine war at a glance: what we know on day 346 of the invasion',\n",
       " 'Russia-Ukraine war at a glance: what we know on day 334 of the invasion',\n",
       " 'Russia-Ukraine war live: US does not expect significant Russian gains this year; Lukashenko arrives in China',\n",
       " 'Russia-Ukraine war live: air raid warning across Ukraine; Russia bringing in large reserves near Kreminna, local official says – as it happened',\n",
       " 'Russia-Ukraine war: Moscow’s ceasefire ends with no let up in fighting; Ukraine strikes power plants in Donetsk, officials say – as it happened',\n",
       " 'Russia-Ukraine war at a glance: what we know on day 332 of the invasion',\n",
       " 'Russia-Ukraine war at a glance: what we know on day 330 of the invasion',\n",
       " 'Russia-Ukraine war at a glance: what we know on day 340 of the invasion',\n",
       " 'Russia-Ukraine war at a glance: what we know on day 329 of the invasion',\n",
       " 'Russia-Ukraine war at a glance: what we know on day 339 of the invasion',\n",
       " 'Russia-Ukraine war, as it happened: Kyiv accuses Putin of breaking his own ceasefire',\n",
       " 'Russia-Ukraine war at a glance: what we know on day 337 of the invasion',\n",
       " 'Russian and US defence ministers discuss Ukraine war in rare talks',\n",
       " 'Russian invasion ‘an affront’, says UN chief, as assembly meets on Ukraine',\n",
       " 'Russia-Ukraine war at a glance: what we know on day 336 of the invasion',\n",
       " 'Russia-Ukraine war at a glance: what we know on day 323 of the invasion',\n",
       " 'Russia-Ukraine war at a glance: what we know on day 322 of the invasion',\n",
       " 'What happened in the Russia-Ukraine war this week? Catch up with the must-read news and analysis',\n",
       " 'Russia-Ukraine war live: ‘fragile morale’ among Russian forces, says UK – as it happened',\n",
       " 'Russia-Ukraine war: Biden and Scholz hold talks as Russian forces close in on Bakhmut – as it happened ',\n",
       " 'Russia-Ukraine war: Putin has already lost ‘strategically, operationally and tactically’, says US general – as it happened',\n",
       " 'Russia-Ukraine war at a glance: what we know on day 328 of the invasion',\n",
       " 'What happened in the Russia-Ukraine war this week? Catch up with the must-read news and analysis',\n",
       " 'Russia-Ukraine war live: UN votes to demand Russian troop withdrawal but China abstains – as it happened',\n",
       " 'Russia-Ukraine war at a glance: what we know on day 327 of the invasion',\n",
       " 'Russia-Ukraine war at a glance: What we know on day 315 of the invasion',\n",
       " 'Russia-Ukraine war at a glance: what we know on day 326 of the invasion',\n",
       " 'Japan chooses ‘war’ as kanji of the year amid Ukraine conflict and Abe assassination',\n",
       " 'Russia-Ukraine war at a glance: what we know on day 325 of the invasion',\n",
       " ' Russia-Ukraine war at a glance: what we know on day 314 of the invasion',\n",
       " 'Russia-Ukraine war at a glance: what we know on day 313 of the invasion',\n",
       " 'What happened in the Russia-Ukraine war this week? Catch up with the must-read news and analysis',\n",
       " 'Russia-Ukraine war at a glance: what we know on day 312 of the invasion',\n",
       " 'Russia-Ukraine war: Putin hints at ‘long’ conflict and says risk of nuclear war is on the rise – as it happened',\n",
       " 'Russia-Ukraine war: Kyiv warns of threat of missile attacks from Belarus – as it happened',\n",
       " 'What happened in the Russia-Ukraine war this week? Catch up with the must-read news and analysis',\n",
       " 'Russia-Ukraine war at a glance: what we know on day 309 of the invasion',\n",
       " 'Russia-Ukraine war at a glance: what we know on day 319 of the invasion',\n",
       " 'Russia-Ukraine war at a glance: what we know on day 318 of the invasion',\n",
       " 'Russia-Ukraine war at a glance: what we know on day 305 of the invasion',\n",
       " 'Russia-Ukraine war live: Biden pledges to boost Ukraine’s air defence; EU and G7 leaders to meet to agree on more Russia sanctions',\n",
       " 'Russia-Ukraine war at a glance: what we know on day 304 of the invasion',\n",
       " 'Russia-Ukraine war: Kherson mayor warns of ‘critical’ water shortages – as it happened',\n",
       " 'Russia-Ukraine war at a glance: what we know on day 303 of the invasion',\n",
       " 'Russia-Ukraine war: Moscow demands west recognises annexations before peace talks – as it happened',\n",
       " 'What happened in the Russia-Ukraine war this week? Catch up with the must-read news and analysis',\n",
       " 'Russia-Ukraine war at a glance: what we know on day 302 of the invasion',\n",
       " 'Russia-Ukraine war at a glance: what we know on day 301 of the invasion',\n",
       " 'Russia-Ukraine war at a glance: what we know on day 311 of the invasion',\n",
       " 'Russia-Ukraine war at a glance: what we know on day 300 of the invasion',\n",
       " 'Russia-Ukraine war at a glance: what we know on day 310 of the invasion',\n",
       " 'Russia-Ukraine war at a glance: what we know on day 297 of the invasion',\n",
       " 'Russia-Ukraine war: US pledges ‘unwavering commitment’ to Ukraine; Zelenskiy accuses Russia of delaying grain ships – as it happened',\n",
       " ' What happened in the Russia-Ukraine war this week? Catch up with the must-read news and analysis',\n",
       " 'Russia-Ukraine war: ‘no indication’ of direct military threat to Moldova or Romania, says US – as it happened',\n",
       " 'Makiivka strike: what we know about the deadliest attack on Russian troops since Ukraine war began',\n",
       " 'Russia-Ukraine war live: Russian defence ministry says 63 servicemen killed in Makiivka — as it happened ',\n",
       " 'Russia-Ukraine war: Kyiv to receive ‘hundreds’ of tanks from several nations, says Lithuania – as it happened',\n",
       " 'Russia-Ukraine war at a glance: what we know on day 293 of the invasion',\n",
       " 'Russia-Ukraine war live: Zaporizhzhia attacks ‘playing with fire’, UN warns – as it happened',\n",
       " 'Anthony Albanese urges Australians not to travel to Ukraine but to donate to support war effort',\n",
       " ' Russia-Ukraine war at a glance: what we know on day 290 of the invasion',\n",
       " 'Russia-Ukraine war at a glance: what we know on day 299 of the invasion',\n",
       " 'Russia-Ukraine war at a glance: what we know on day 288 of the invasion',\n",
       " 'Russia-Ukraine war: Kyiv ‘working with UN to demilitarise Zaporizhzhia nuclear plant’ – as it happened',\n",
       " 'Russia-Ukraine war at a glance: what we know on day 292 of the invasion',\n",
       " 'Russia-Ukraine war at a glance: what we know on day 286 of the invasion',\n",
       " 'Russia-Ukraine war at a glance: what we know on day 296 of the invasion',\n",
       " 'Russia-Ukraine war at a glance: what we know on day 294 of the invasion',\n",
       " 'Russia-Ukraine war latest: what we know on day 243 of the invasion',\n",
       " 'Russia-Ukraine war live: Moscow says UK ‘too deep’ in war and claims special forces involved in drone attack',\n",
       " 'Russia-Ukraine war at a glance: what we know on day 283 of the invasion']"
      ]
     },
     "execution_count": 11,
     "metadata": {},
     "output_type": "execute_result"
    }
   ],
   "source": [
    "Aus_titles= [ ]\n",
    "for result in results:\n",
    "    Aus_titles.append(result['webTitle'])\n",
    "Aus_titles\n",
    "    \n"
   ]
  },
  {
   "cell_type": "markdown",
   "metadata": {},
   "source": [
    "I want to know how many headlines are published in the Australian office about the Ukraine war since it's beginning on the 24th of February 2022? This is a valid and relevent question for this type of quest, though we could only access freely to a limited number of API returns, so the number comes back as the same number we have already had for our search, i.e. 150. "
   ]
  },
  {
   "cell_type": "code",
   "execution_count": 12,
   "metadata": {},
   "outputs": [
    {
     "data": {
      "text/plain": [
       "150"
      ]
     },
     "execution_count": 12,
     "metadata": {},
     "output_type": "execute_result"
    }
   ],
   "source": [
    "len(Aus_titles)"
   ]
  },
  {
   "cell_type": "markdown",
   "metadata": {},
   "source": [
    "In order to familiarize myself with the data more, I wondered what are the most frequent words in the data set. I used the code below, just to get an idea of the most repeated words in the headlines. "
   ]
  },
  {
   "cell_type": "code",
   "execution_count": 13,
   "metadata": {},
   "outputs": [
    {
     "name": "stdout",
     "output_type": "stream",
     "text": [
      "[('ukraine', 175), ('war', 155), ('russia', 151), ('invasion', 77), ('know', 76), ('day', 75), ('glance', 74), ('happened', 56), ('live', 29), ('russian', 19), ('says', 17), ('putin', 12), ('kyiv', 8), ('moscow', 7), ('week', 7), ('bakhmut', 6), ('kherson', 6), ('catch', 6), ('must', 6), ('read', 6)]\n"
     ]
    }
   ],
   "source": [
    "import re\n",
    "from collections import Counter\n",
    "\n",
    "\n",
    "joinedString = '. '.join(Aus_titles) #joins all the titles\n",
    "joinedString = joinedString.lower()\n",
    "\n",
    "from gensim.parsing.preprocessing import remove_stopwords\n",
    "\n",
    "filtered_sentence = remove_stopwords(joinedString)\n",
    "filtered_sentence = re.sub(r'[^\\w\\s]', ' ', filtered_sentence)\n",
    "\n",
    "#print(filtered_sentence)\n",
    "  \n",
    "# split() returns list of all the words in the string\n",
    "split_it = filtered_sentence.split()\n",
    "  \n",
    "# Pass the split_it list to instance of Counter class.\n",
    "Countervar = Counter(split_it)\n",
    "  \n",
    "# most_common() produces k frequently encountered input values and...\n",
    "# their respective counts.\n",
    "most_occur = Countervar.most_common(20)\n",
    "  \n",
    "print(most_occur)\n"
   ]
  },
  {
   "cell_type": "markdown",
   "metadata": {},
   "source": [
    "I visualised the most frequent words, to understand them easier. "
   ]
  },
  {
   "cell_type": "code",
   "execution_count": 14,
   "metadata": {},
   "outputs": [
    {
     "data": {
      "text/plain": [
       "<AxesSubplot:xlabel='word'>"
      ]
     },
     "execution_count": 14,
     "metadata": {},
     "output_type": "execute_result"
    },
    {
     "data": {
      "image/png": "[encoded data removed]",
      "text/plain": [
       "<Figure size 432x288 with 1 Axes>"
      ]
     },
     "metadata": {
      "needs_background": "light"
     },
     "output_type": "display_data"
    }
   ],
   "source": [
    "import pandas as pd\n",
    "import matplotlib.pyplot as plt\n",
    "\n",
    "df = pd.DataFrame(most_occur, columns=['word', 'frequency'])\n",
    "df.plot(kind='bar', x='word')"
   ]
  },
  {
   "cell_type": "markdown",
   "metadata": {},
   "source": [
    "## United Kingdom Headlines"
   ]
  },
  {
   "cell_type": "markdown",
   "metadata": {},
   "source": [
    "We repeat almost the same codes as above to get the headlines from the UK office, too. "
   ]
  },
  {
   "cell_type": "code",
   "execution_count": 16,
   "metadata": {},
   "outputs": [],
   "source": [
    "baseUrl = 'https://content.guardianapis.com/search?q='\n",
    "searchString = \"Ukraine AND war\"\n",
    "production_office = \"UK\"\n",
    "fromDate = \"2022-02-24\"\n",
    "\n",
    "url2 = baseUrl+searchString+'&production-office='+production_office+'&from-date='+fromDate+'&page-size=150&api-key='+key\n",
    "#print(url2)"
   ]
  },
  {
   "cell_type": "code",
   "execution_count": 17,
   "metadata": {},
   "outputs": [],
   "source": [
    "# get data from server\n",
    "response = requests.get(url2)"
   ]
  },
  {
   "cell_type": "code",
   "execution_count": 18,
   "metadata": {
    "tags": []
   },
   "outputs": [
    {
     "data": {
      "text/plain": [
       "<Response [200]>"
      ]
     },
     "execution_count": 18,
     "metadata": {},
     "output_type": "execute_result"
    }
   ],
   "source": [
    "response"
   ]
  },
  {
   "cell_type": "code",
   "execution_count": 19,
   "metadata": {},
   "outputs": [],
   "source": [
    "# I didn't run this line of code to avoid a large cell in the middle of the analysis. \n",
    "\n",
    "#response.content"
   ]
  },
  {
   "cell_type": "code",
   "execution_count": 20,
   "metadata": {},
   "outputs": [],
   "source": [
    "data2 = json.loads(response.content)\n",
    "#data2\n",
    "# I didn't run this line of code to avoid a large cell in the middle of the analysis. \n"
   ]
  },
  {
   "cell_type": "code",
   "execution_count": 21,
   "metadata": {},
   "outputs": [],
   "source": [
    "results2 = data2['response']['results']\n",
    "#results2\n",
    "# I didn't run this line of code to avoid a large cell in the middle of the analysis. \n"
   ]
  },
  {
   "cell_type": "code",
   "execution_count": 22,
   "metadata": {},
   "outputs": [],
   "source": [
    "for result in results2:\n",
    "    b=result['webTitle']\n",
    "    #print(b)\n",
    "    # I didn't run this line of code to avoid a large cell in the middle of the analysis. \n"
   ]
  },
  {
   "cell_type": "code",
   "execution_count": 23,
   "metadata": {
    "collapsed": true
   },
   "outputs": [
    {
     "data": {
      "text/plain": [
       "['Windows on a war: Miguel Gutiérrez’s photographs of Ukraine',\n",
       " 'War in Ukraine defining new world order, says thinktank',\n",
       " 'The Guardian view on war in Ukraine: reshaping the world | Editorial',\n",
       " 'Russian minister’s claim Ukraine war ‘launched against us’ met with laughter',\n",
       " 'Russian forces could regain initiative as Ukraine war drags on',\n",
       " 'Shell and Vitol accused of prolonging Ukraine war with sanctions ‘loophole’',\n",
       " 'Sunak urges Europe to use weapons stockpiles to help Ukraine war',\n",
       " 'Ukraine war ‘over’ unless EU boosts military support, says top diplomat',\n",
       " 'European gas prices fall to pre-Ukraine war level ',\n",
       " 'The ‘silent victim’: Ukraine counts war’s cost for nature',\n",
       " 'Splitting the atomic scientists: how the Ukraine war ruined physics',\n",
       " 'Grief and defiance in Kyiv on first anniversary of war in Ukraine',\n",
       " 'Norway urged to step up Ukraine support after profiting from war',\n",
       " 'Year of war in Ukraine tests China’s ‘no limits’ relationship with Russia',\n",
       " 'Win, lose, stalemate or a shock: how might the Ukraine war end?',\n",
       " 'Welby calls for just peace between Russia and Ukraine on war anniversary',\n",
       " 'Energy crisis stemming from Ukraine war ‘cost £1k for every UK adult’',\n",
       " 'ICC to plead for extra money to pursue Russian war crimes in Ukraine',\n",
       " 'One year after the start of war, what lies ahead for Ukraine? ',\n",
       " 'UN calls for immediate Russian withdrawal from Ukraine',\n",
       " 'War will end at negotiating table with Ukraine in ‘best place’, Sunak says',\n",
       " 'Iran becoming global drone producer on back of Ukraine war, says US',\n",
       " '‘Hellish’ battle for Soledar symbolises state of Russia’s war in Ukraine',\n",
       " 'Symbols of Ukraine war cast shadow over Russia’s festive celebrations',\n",
       " 'How will the war in Ukraine develop during 2023? Our panel look ahead',\n",
       " 'Ukraine’s reporters adapt amid media restrictions and pressure of war',\n",
       " '‘Victory inevitable’: Zelenskiy addresses defiant Ukraine on war’s first anniversary',\n",
       " 'Ukraine war heading for ‘uncontrolled escalation’, says Russia',\n",
       " 'Joe Biden says Russian forces in disarray after year of war in Ukraine',\n",
       " '‘Russia has lost its soft power’: how war in Ukraine destabilises old Soviet allies',\n",
       " 'A year of war: how Russian forces have been pushed back in Ukraine',\n",
       " 'Putin welcomes China’s controversial proposals for peace in Ukraine',\n",
       " 'Slovakia to donate 13 MiG-29 warplanes to Ukraine',\n",
       " 'Russian opposition figure Ilya Yashin jailed for denouncing Ukraine war',\n",
       " 'Russian man detained over daughter’s pro-Ukraine drawings ',\n",
       " 'Russian oligarchs lose $95bn in 2022 amid sanctions after Ukraine war',\n",
       " 'Bulgaria secretly supplied Ukraine fuel and ammunition in first months of war',\n",
       " 'Vladimir Putin better informed now about Ukraine war, says US',\n",
       " '‘It won’t be like before’: Christmas in Ukraine transformed by war',\n",
       " 'US attempts to win over UN members who are neutral on war in Ukraine',\n",
       " 'Ukraine confident UK will send Challenger 2 tanks to help war effort',\n",
       " 'ICC prosecutor says world needs ‘stamina’ to get justice for Ukraine',\n",
       " ' Russia-Ukraine war at a glance: what we know on day 390 of the invasion',\n",
       " 'Thursday briefing: How the first year of war in Ukraine unfolded, month by month',\n",
       " 'Ukraine war pushes civilian casualties from explosive weapons to four-year high',\n",
       " '‘It’s a disgrace not to go to war’: muted Russian protest against Ukraine conflict',\n",
       " 'Ukraine war ‘opening eyes’ to need to reform England’s libel laws, says lawyer',\n",
       " '‘Ukraine is not our enemy’: Russians risk arrest to honour victims of war',\n",
       " 'Global carbon emissions forecast cut due to Ukraine war and Biden, says BP',\n",
       " 'Russia-Ukraine war at a glance: what we know on day 379 of the invasion',\n",
       " 'Russia-Ukraine war at a glance: what we know on day 375 of the invasion',\n",
       " 'Polish village struck by Ukraine war missile struggling with trauma',\n",
       " 'Russian soldier seeking asylum in Madrid denounces ‘criminal’ Ukraine war',\n",
       " 'Vladimir Putin pays surprise visit to occupied Mariupol in Ukraine',\n",
       " 'Berlusconi claims Russians ‘pushed’ Putin into Ukraine war',\n",
       " 'EU seals deal to supply Ukraine with a million rounds of shells',\n",
       " 'ICC to issue first arrest warrants linked to Russia’s invasion of Ukraine',\n",
       " 'Ukraine urges world leaders to intensify war efforts on first day at Davos',\n",
       " 'Ukraine uses Cop27 to highlight environmental cost of Russia’s war',\n",
       " 'Russian TV station in Latvia loses licence over Ukraine war coverage',\n",
       " '‘Major push’ for gas amid Ukraine war accelerating climate breakdown',\n",
       " 'Insurers end war-risk cover for shipping in Ukraine invasion zone',\n",
       " 'Think the war in Ukraine is the world’s deadliest conflict? Think again | Magdalene Abraha',\n",
       " 'Russia-Ukraine war at a glance: what we know on day 366 of the invasion',\n",
       " 'France backs plans for tribunal for Russian officials over Ukraine war',\n",
       " 'Nearly 40% of Britons have made a donation to Ukraine',\n",
       " 'Russia-Ukraine war at a glance: what we know on day 365 of the invasion',\n",
       " 'Russia-Ukraine war at a glance: what we know on day 364 of the invasion',\n",
       " 'Russia blames ‘terrorists’ after reports of fighting near Ukraine border',\n",
       " 'Kosovo PM says Russia is inflaming Serbia tensions as Ukraine war falters',\n",
       " 'Russia replaces general in charge of Ukraine war in latest military shake-up',\n",
       " 'US and UK rule out sending fighter jets to Ukraine',\n",
       " 'Russia-Ukraine war at a glance: what we know on day 362 of the invasion',\n",
       " 'Joe Biden meets Olaf Scholz in effort to keep Ukraine strategies aligned',\n",
       " 'Ukraine marks first anniversary of Russia’s invasion | First Thing',\n",
       " 'Russia-Ukraine war at a glance: what we know on day 358 of the invasion',\n",
       " 'Labour left breaks with Jeremy Corbyn over sending weapons to Ukraine ',\n",
       " 'China foreign minister warns against ‘fuelling the fire’ over Ukraine conflict',\n",
       " 'Western unity is critical, but Ukraine needs more than tanks to win this war ',\n",
       " 'Russia-Ukraine war at a glance: what we know on day 354 of the invasion',\n",
       " ' Russia launches six hypersonic missiles in massive barrage against Ukraine',\n",
       " 'Want to see a dentist? Best go to Ukraine | Brief letters',\n",
       " 'Russia-Ukraine war at a glance: what we know on day 351 of the invasion',\n",
       " 'Monday briefing: Is there any end in sight for the war in Ukraine?',\n",
       " 'Russian athletes could compete at Paris Olympics even if Ukraine war continues',\n",
       " 'Trafigura hands out $1.7bn in dividends on profits fuelled by Ukraine war',\n",
       " 'Putin may never come to trial: so let’s help Ukraine act on Russian war crimes now | Letters',\n",
       " 'Sunak to condemn ‘pariah state’ Russia at G20 over Ukraine war',\n",
       " 'Russia-Ukraine war at a glance: what we know on day 349 of the invasion',\n",
       " 'Russia-Ukraine war at a glance: what we know on day 350 of the invasion',\n",
       " 'Russia-Ukraine war at a glance: what we know on day 348 of the invasion',\n",
       " ' Russia-Ukraine war at a glance: what we know on day 347 of the invasion',\n",
       " 'Vladimir Putin says Russia’s war in Ukraine could be ‘long-term process’ ',\n",
       " 'Germany approves Leopard 1 battle tank exports to Ukraine',\n",
       " 'EU pledges to double military aid programme for Ukraine',\n",
       " 'TV tonight: the people who stayed in Ukraine tell their incredible stories',\n",
       " 'Archbishop of Canterbury and Pope Francis call for end to war in Ukraine',\n",
       " 'Kit and morale may prove decisive as Ukraine war enters winter phase',\n",
       " 'US estimates 200,000 military casualties on all sides in Ukraine war',\n",
       " 'Russia-Ukraine war at a glance: what we know on day 344 of the invasion',\n",
       " 'Chinese authorities ‘drop EU council chief’s speech criticising war in Ukraine’',\n",
       " 'Boris Johnson calls on US to give Ukraine fighter planes',\n",
       " 'How soulmates Hungary and Poland fell out over Ukraine war',\n",
       " 'Russia-Ukraine war at a glance: what we know on day 345 of the invasion',\n",
       " 'Keir Starmer visits Kyiv to emphasise Labour’s backing for Ukraine',\n",
       " 'Russian cruise missiles crossed into Moldova and Romania, says Ukraine',\n",
       " 'Ukraine reinforces Bakhmut defences amid relentless Russian assault',\n",
       " 'Russia-Ukraine war at a glance: what we know on day 343 of the invasion',\n",
       " 'Ukraine military denies Russian forces have captured Soledar',\n",
       " 'Putin’s mission to Minsk raises fears he will drag Belarus into Ukraine war',\n",
       " 'Joe Biden visits Kyiv in major show of support for Ukraine',\n",
       " 'Russia-Ukraine war at a glance: what we know on day 342 of the invasion',\n",
       " 'Russia assembles troops for possible offensive in Luhansk, Ukraine says',\n",
       " 'Hungary’s staging of War and Peace puts spotlight on its Russia stance',\n",
       " 'Chronicling history: 365 days of the Guardian’s Ukraine live blogs ',\n",
       " 'Germany and China clash over west’s supply of weapons to Ukraine',\n",
       " 'Russia begins major offensive in eastern Ukraine, Luhansk governor claims',\n",
       " 'UK considers supplying handful of Challenger 2 tanks to Ukraine',\n",
       " '‘We will never be the same’: chef Olia Hercules on Ukraine’s year of war',\n",
       " 'Russia-Ukraine war at a glance: what we know on day 333 of the invasion',\n",
       " 'No year-end press conference for Putin amid Russia’s faltering war in Ukraine',\n",
       " '‘People can’t afford milk’: Moldovans weigh political future as Ukraine war hits economy',\n",
       " 'Russia-Ukraine war at a glance: what we know on day 331 of the invasion',\n",
       " '‘My family’s rhetoric has become violent’: Russians on one year of war',\n",
       " ' Doomsday Clock at record 90 seconds to midnight amid Ukraine crisis',\n",
       " 'Don’t be fooled: sanctions really are hurting Russia’s war against Ukraine | Carla Norrlöf',\n",
       " 'UK foreign secretary defends ‘moral imperative’ of sending tanks to Ukraine',\n",
       " 'Lloyd’s of London takes £1.1bn hit from Ukraine war',\n",
       " 'Russian artillery barrages kill civilians in southern and eastern Ukraine',\n",
       " 'Italian PM Meloni in Kyiv amid tensions over war within her coalition',\n",
       " 'We owe it to the people of Ukraine to bring Vladimir Putin to trial for war crimes | Gordon Brown',\n",
       " '‘I want to live’: the Ukraine hotline encouraging Russians to surrender',\n",
       " 'The revenge of history in Ukraine: year of war has shaken up world order',\n",
       " 'Zelenskiy awards Hero of Ukraine to PoW killed by Russian forces',\n",
       " 'Russia: man shoots officer drafting residents for war in Ukraine',\n",
       " 'Monday briefing: Can curbing Russian oil profits help end the war on Ukraine?',\n",
       " 'How would F-16 fighter jets aid Ukraine against Russia?',\n",
       " 'Who is winning in Ukraine – and what will happen next?',\n",
       " 'Putin says Russia ‘will respond’ if UK supplies depleted uranium shells to Ukraine',\n",
       " 'Drone analysis in Ukraine suggests Iran has supplied Russia since war began',\n",
       " 'Western leaders give cool response to China’s plan for Ukraine peace talks',\n",
       " 'Russia-Ukraine war at a glance: what we know on day 324 of the invasion',\n",
       " 'Putin’s ‘holy war’ is terrorising Ukraine – and Russian dissenters. All they ask is that we don’t forget them | Rafael Behr',\n",
       " 'Scholz’s caution over tanks for Ukraine echoed on Berlin streets',\n",
       " 'Russia-Ukraine war live: UK defence secretary dismisses Russia’s claims Ukraine plans to escalate conflict – as it happened',\n",
       " 'Russia has committed war crimes in Ukraine, say UN investigators',\n",
       " 'Cop27: ending war in Ukraine necessary to tackle climate crisis, Zelenskiy says',\n",
       " 'Russia claims US ‘directly involved’ in Ukraine war',\n",
       " 'Bodies of two Britons killed in Ukraine recovered as part of prisoner swap',\n",
       " 'Russia-Ukraine war at a glance: what we know on day 320 of the invasion']"
      ]
     },
     "execution_count": 23,
     "metadata": {},
     "output_type": "execute_result"
    }
   ],
   "source": [
    "UK_titles= [ ]\n",
    "for result in results2:\n",
    "    UK_titles.append(result['webTitle'])\n",
    "UK_titles\n",
    "    \n"
   ]
  },
  {
   "cell_type": "code",
   "execution_count": 24,
   "metadata": {},
   "outputs": [
    {
     "data": {
      "text/plain": [
       "150"
      ]
     },
     "execution_count": 24,
     "metadata": {},
     "output_type": "execute_result"
    }
   ],
   "source": [
    "len(UK_titles)"
   ]
  },
  {
   "cell_type": "markdown",
   "metadata": {},
   "source": [
    "Again, I tried to get an idea of the most frequent words in the UK headlines. "
   ]
  },
  {
   "cell_type": "code",
   "execution_count": 25,
   "metadata": {},
   "outputs": [
    {
     "name": "stdout",
     "output_type": "stream",
     "text": [
      "[('ukraine', 148), ('war', 108), ('russia', 50), ('s', 33), ('invasion', 25), ('day', 23), ('russian', 22), ('glance', 22), ('know', 22), ('says', 16), ('putin', 11), ('year', 10), ('end', 7), ('uk', 7), ('amid', 7), ('world', 6), ('forces', 5), ('military', 5), ('china', 5), ('tanks', 5)]\n"
     ]
    }
   ],
   "source": [
    "\n",
    "from collections import Counter\n",
    "\n",
    "joinedString2 = '. '.join(UK_titles) #joins all the titles\n",
    "joinedString2 = joinedString2.lower()\n",
    "filtered_sentence2 = remove_stopwords(joinedString2)\n",
    "filtered_sentence2 = re.sub(r'[^\\w\\s]', ' ', filtered_sentence2)\n",
    "\n",
    "# split() returns list of all the words in the string\n",
    "split_it2 = filtered_sentence2.split()\n",
    "  \n",
    "# Pass the split_it list to instance of Counter class.\n",
    "Counter2 = Counter(split_it2)\n",
    "  \n",
    "# most_common() produces frequently encountered...\n",
    "# input values and their respective counts.\n",
    "most_occur2 = Counter2.most_common(20)\n",
    "  \n",
    "print(most_occur2)\n",
    "\n"
   ]
  },
  {
   "cell_type": "code",
   "execution_count": 26,
   "metadata": {},
   "outputs": [
    {
     "data": {
      "text/plain": [
       "<AxesSubplot:xlabel='word'>"
      ]
     },
     "execution_count": 26,
     "metadata": {},
     "output_type": "execute_result"
    },
    {
     "data": {
      "image/png": "[encoded data removed]",
      "text/plain": [
       "<Figure size 432x288 with 1 Axes>"
      ]
     },
     "metadata": {
      "needs_background": "light"
     },
     "output_type": "display_data"
    }
   ],
   "source": [
    "import pandas as pd\n",
    "import matplotlib.pyplot as plt\n",
    "\n",
    "df2 = pd.DataFrame(most_occur2, columns=['word', 'frequency'])\n",
    "df2.plot(kind='bar', x='word')"
   ]
  },
  {
   "cell_type": "markdown",
   "metadata": {},
   "source": [
    "### 3. Analysis"
   ]
  },
  {
   "cell_type": "markdown",
   "metadata": {},
   "source": [
    "When I got an idea of the most frequent words above, I decided to pick a few of the most relevant and frequent ones to analyze and compare them further in both Australian and UK headlines. I needed a more accurate counting on those words. \n",
    "The words I picked for my analysis are:\n",
    "* Australia \n",
    "* Ukraine \n",
    "* Russia\n",
    "* China\n",
    "* Zelenskiy\n",
    "* Putin\n",
    "\n"
   ]
  },
  {
   "cell_type": "markdown",
   "metadata": {},
   "source": [
    "I defined a function for counting each of those words to make it eaiser and to avoid writing a code for each one of them seperately. "
   ]
  },
  {
   "cell_type": "code",
   "execution_count": 27,
   "metadata": {},
   "outputs": [],
   "source": [
    "def count_occurences (mylist, myword, extra_char_length):\n",
    "    count = 0\n",
    "    for x in mylist:\n",
    "        filtered_x = remove_stopwords(x)\n",
    "        filtered_x = re.sub(r'[^\\w\\s]', ' ', filtered_x)\n",
    "\n",
    "        p=re.findall(r'\\b'+myword+r'.{0,'+str(extra_char_length)+r'}\\b',filtered_x, re.IGNORECASE)\n",
    "        # \\b allows me to perform a “whole words only” search using a regular expression in the form of \\bword\\b\n",
    "        # I used r'\\b' to ensure whole words are selected. Otherwise, when I search for \"war\" it will find \"toward\", \"warning\" and \"warn\" as well.\n",
    "        count+=len(p)\n",
    "    return count"
   ]
  },
  {
   "cell_type": "code",
   "execution_count": 28,
   "metadata": {},
   "outputs": [
    {
     "data": {
      "text/plain": [
       "1"
      ]
     },
     "execution_count": 28,
     "metadata": {},
     "output_type": "execute_result"
    }
   ],
   "source": [
    "count_occurences(Aus_titles, 'Australia', 2) # last argument (2) means Australia, AustraliaN, and AustraliaNS are acceptable"
   ]
  },
  {
   "cell_type": "code",
   "execution_count": 29,
   "metadata": {},
   "outputs": [
    {
     "data": {
      "text/plain": [
       "0"
      ]
     },
     "execution_count": 29,
     "metadata": {},
     "output_type": "execute_result"
    }
   ],
   "source": [
    "count_occurences(UK_titles, 'Australia', 2)"
   ]
  },
  {
   "cell_type": "code",
   "execution_count": 30,
   "metadata": {},
   "outputs": [
    {
     "data": {
      "text/plain": [
       "177"
      ]
     },
     "execution_count": 30,
     "metadata": {},
     "output_type": "execute_result"
    }
   ],
   "source": [
    "count_occurences(Aus_titles, 'ukrain', 3)"
   ]
  },
  {
   "cell_type": "code",
   "execution_count": 31,
   "metadata": {},
   "outputs": [
    {
     "data": {
      "text/plain": [
       "148"
      ]
     },
     "execution_count": 31,
     "metadata": {},
     "output_type": "execute_result"
    }
   ],
   "source": [
    "count_occurences(UK_titles, 'ukrain', 3)"
   ]
  },
  {
   "cell_type": "code",
   "execution_count": 32,
   "metadata": {},
   "outputs": [
    {
     "data": {
      "text/plain": [
       "170"
      ]
     },
     "execution_count": 32,
     "metadata": {},
     "output_type": "execute_result"
    }
   ],
   "source": [
    "count_occurences(Aus_titles, 'russia', 3)"
   ]
  },
  {
   "cell_type": "code",
   "execution_count": 33,
   "metadata": {},
   "outputs": [
    {
     "data": {
      "text/plain": [
       "76"
      ]
     },
     "execution_count": 33,
     "metadata": {},
     "output_type": "execute_result"
    }
   ],
   "source": [
    "count_occurences(UK_titles, 'russia', 3)"
   ]
  },
  {
   "cell_type": "code",
   "execution_count": 34,
   "metadata": {},
   "outputs": [
    {
     "data": {
      "text/plain": [
       "3"
      ]
     },
     "execution_count": 34,
     "metadata": {},
     "output_type": "execute_result"
    }
   ],
   "source": [
    "count_occurences(Aus_titles, 'chin', 4)"
   ]
  },
  {
   "cell_type": "code",
   "execution_count": 35,
   "metadata": {},
   "outputs": [
    {
     "data": {
      "text/plain": [
       "6"
      ]
     },
     "execution_count": 35,
     "metadata": {},
     "output_type": "execute_result"
    }
   ],
   "source": [
    "count_occurences(UK_titles, 'chin', 4)"
   ]
  },
  {
   "cell_type": "code",
   "execution_count": 36,
   "metadata": {},
   "outputs": [
    {
     "data": {
      "text/plain": [
       "155"
      ]
     },
     "execution_count": 36,
     "metadata": {},
     "output_type": "execute_result"
    }
   ],
   "source": [
    "count_occurences(Aus_titles, 'war', 0) \n"
   ]
  },
  {
   "cell_type": "code",
   "execution_count": 37,
   "metadata": {},
   "outputs": [
    {
     "data": {
      "text/plain": [
       "108"
      ]
     },
     "execution_count": 37,
     "metadata": {},
     "output_type": "execute_result"
    }
   ],
   "source": [
    "count_occurences(UK_titles, 'war', 0)"
   ]
  },
  {
   "cell_type": "code",
   "execution_count": 38,
   "metadata": {},
   "outputs": [
    {
     "data": {
      "text/plain": [
       "3"
      ]
     },
     "execution_count": 38,
     "metadata": {},
     "output_type": "execute_result"
    }
   ],
   "source": [
    "count_occurences(Aus_titles, 'zelenskiy', 0)"
   ]
  },
  {
   "cell_type": "code",
   "execution_count": 39,
   "metadata": {},
   "outputs": [
    {
     "data": {
      "text/plain": [
       "3"
      ]
     },
     "execution_count": 39,
     "metadata": {},
     "output_type": "execute_result"
    }
   ],
   "source": [
    "count_occurences(UK_titles, 'zelenskiy', 0)"
   ]
  },
  {
   "cell_type": "code",
   "execution_count": 40,
   "metadata": {},
   "outputs": [
    {
     "data": {
      "text/plain": [
       "12"
      ]
     },
     "execution_count": 40,
     "metadata": {},
     "output_type": "execute_result"
    }
   ],
   "source": [
    "count_occurences(Aus_titles, 'putin', 0)"
   ]
  },
  {
   "cell_type": "code",
   "execution_count": 41,
   "metadata": {},
   "outputs": [
    {
     "data": {
      "text/plain": [
       "11"
      ]
     },
     "execution_count": 41,
     "metadata": {},
     "output_type": "execute_result"
    }
   ],
   "source": [
    "count_occurences(UK_titles, 'putin', 0)"
   ]
  },
  {
   "cell_type": "code",
   "execution_count": 42,
   "metadata": {},
   "outputs": [
    {
     "data": {
      "text/plain": [
       "5"
      ]
     },
     "execution_count": 42,
     "metadata": {},
     "output_type": "execute_result"
    }
   ],
   "source": [
    "count_occurences(Aus_titles, 'UK', 0)"
   ]
  },
  {
   "cell_type": "code",
   "execution_count": 43,
   "metadata": {},
   "outputs": [
    {
     "data": {
      "text/plain": [
       "7"
      ]
     },
     "execution_count": 43,
     "metadata": {},
     "output_type": "execute_result"
    }
   ],
   "source": [
    "count_occurences(UK_titles, 'UK', 0)"
   ]
  },
  {
   "cell_type": "markdown",
   "metadata": {},
   "source": [
    "After counting the number of each of the words I was interested in, I made a dataframe to compare the data and visualise them."
   ]
  },
  {
   "cell_type": "code",
   "execution_count": 44,
   "metadata": {},
   "outputs": [
    {
     "data": {
      "text/html": [
       "<div>\n",
       "<style scoped>\n",
       "    .dataframe tbody tr th:only-of-type {\n",
       "        vertical-align: middle;\n",
       "    }\n",
       "\n",
       "    .dataframe tbody tr th {\n",
       "        vertical-align: top;\n",
       "    }\n",
       "\n",
       "    .dataframe thead th {\n",
       "        text-align: right;\n",
       "    }\n",
       "</style>\n",
       "<table border=\"1\" class=\"dataframe\">\n",
       "  <thead>\n",
       "    <tr style=\"text-align: right;\">\n",
       "      <th></th>\n",
       "      <th>Australia+</th>\n",
       "      <th>UK</th>\n",
       "      <th>Russia+</th>\n",
       "      <th>Ukrain+</th>\n",
       "      <th>China+</th>\n",
       "      <th>War+</th>\n",
       "      <th>Invasion</th>\n",
       "      <th>Zelenskiy</th>\n",
       "      <th>Putin</th>\n",
       "    </tr>\n",
       "  </thead>\n",
       "  <tbody>\n",
       "    <tr>\n",
       "      <th>Aus_office</th>\n",
       "      <td>NaN</td>\n",
       "      <td>NaN</td>\n",
       "      <td>NaN</td>\n",
       "      <td>NaN</td>\n",
       "      <td>NaN</td>\n",
       "      <td>NaN</td>\n",
       "      <td>NaN</td>\n",
       "      <td>NaN</td>\n",
       "      <td>NaN</td>\n",
       "    </tr>\n",
       "    <tr>\n",
       "      <th>UK_office</th>\n",
       "      <td>NaN</td>\n",
       "      <td>NaN</td>\n",
       "      <td>NaN</td>\n",
       "      <td>NaN</td>\n",
       "      <td>NaN</td>\n",
       "      <td>NaN</td>\n",
       "      <td>NaN</td>\n",
       "      <td>NaN</td>\n",
       "      <td>NaN</td>\n",
       "    </tr>\n",
       "  </tbody>\n",
       "</table>\n",
       "</div>"
      ],
      "text/plain": [
       "           Australia+   UK Russia+ Ukrain+ China+ War+ Invasion Zelenskiy  \\\n",
       "Aus_office        NaN  NaN     NaN     NaN    NaN  NaN      NaN       NaN   \n",
       "UK_office         NaN  NaN     NaN     NaN    NaN  NaN      NaN       NaN   \n",
       "\n",
       "           Putin  \n",
       "Aus_office   NaN  \n",
       "UK_office    NaN  "
      ]
     },
     "execution_count": 44,
     "metadata": {},
     "output_type": "execute_result"
    }
   ],
   "source": [
    "df3 = pd.DataFrame(columns=['Australia+', 'UK','Russia+','Ukrain+','China+','War+','Invasion', 'Zelenskiy', 'Putin'], index=['Aus_office','UK_office'])\n",
    "df3"
   ]
  },
  {
   "cell_type": "code",
   "execution_count": 45,
   "metadata": {},
   "outputs": [
    {
     "data": {
      "text/html": [
       "<div>\n",
       "<style scoped>\n",
       "    .dataframe tbody tr th:only-of-type {\n",
       "        vertical-align: middle;\n",
       "    }\n",
       "\n",
       "    .dataframe tbody tr th {\n",
       "        vertical-align: top;\n",
       "    }\n",
       "\n",
       "    .dataframe thead th {\n",
       "        text-align: right;\n",
       "    }\n",
       "</style>\n",
       "<table border=\"1\" class=\"dataframe\">\n",
       "  <thead>\n",
       "    <tr style=\"text-align: right;\">\n",
       "      <th></th>\n",
       "      <th>Australia+</th>\n",
       "      <th>UK</th>\n",
       "      <th>Russia+</th>\n",
       "      <th>Ukrain+</th>\n",
       "      <th>China+</th>\n",
       "      <th>War+</th>\n",
       "      <th>Invasion</th>\n",
       "      <th>Zelenskiy</th>\n",
       "      <th>Putin</th>\n",
       "    </tr>\n",
       "  </thead>\n",
       "  <tbody>\n",
       "    <tr>\n",
       "      <th>Aus_office</th>\n",
       "      <td>1</td>\n",
       "      <td>5</td>\n",
       "      <td>170</td>\n",
       "      <td>175</td>\n",
       "      <td>3</td>\n",
       "      <td>155</td>\n",
       "      <td>77</td>\n",
       "      <td>3</td>\n",
       "      <td>12</td>\n",
       "    </tr>\n",
       "    <tr>\n",
       "      <th>UK_office</th>\n",
       "      <td>0</td>\n",
       "      <td>7</td>\n",
       "      <td>76</td>\n",
       "      <td>148</td>\n",
       "      <td>5</td>\n",
       "      <td>108</td>\n",
       "      <td>25</td>\n",
       "      <td>3</td>\n",
       "      <td>11</td>\n",
       "    </tr>\n",
       "  </tbody>\n",
       "</table>\n",
       "</div>"
      ],
      "text/plain": [
       "           Australia+ UK Russia+ Ukrain+ China+ War+ Invasion Zelenskiy Putin\n",
       "Aus_office          1  5     170     175      3  155       77         3    12\n",
       "UK_office           0  7      76     148      5  108       25         3    11"
      ]
     },
     "execution_count": 45,
     "metadata": {},
     "output_type": "execute_result"
    }
   ],
   "source": [
    "df3['Australia+']['Aus_office'] = count_occurences(Aus_titles, 'Australia', 2)\n",
    "df3['Australia+']['UK_office'] = count_occurences(UK_titles, 'Australia', 2)\n",
    "df3['Russia+']['Aus_office'] = count_occurences(Aus_titles, 'russia', 3)\n",
    "df3['Russia+']['UK_office'] = count_occurences(UK_titles, 'russia', 3)\n",
    "df3['Ukrain+']['Aus_office'] = count_occurences(Aus_titles, 'ukrain', 2)\n",
    "df3['Ukrain+']['UK_office'] = count_occurences(UK_titles, 'ukrain', 2)\n",
    "df3['China+']['Aus_office'] = count_occurences(Aus_titles, 'chin', 2)\n",
    "df3['China+']['UK_office'] = count_occurences(UK_titles, 'chin', 2)\n",
    "df3['War+']['Aus_office'] = count_occurences(Aus_titles, 'war', 0)\n",
    "df3['War+']['UK_office'] = count_occurences(UK_titles, 'war', 0)\n",
    "df3['Zelenskiy']['Aus_office'] = count_occurences(Aus_titles, 'Zelenskiy', 0)\n",
    "df3['Zelenskiy']['UK_office'] = count_occurences(UK_titles, 'Zelenskiy', 0)\n",
    "df3['Putin']['Aus_office'] = count_occurences(Aus_titles, 'Putin', 0)\n",
    "df3['Putin']['UK_office'] = count_occurences(UK_titles, 'Putin', 0)\n",
    "df3['UK']['Aus_office'] = count_occurences(Aus_titles, 'UK', 0)\n",
    "df3['UK']['UK_office'] = count_occurences(UK_titles, 'UK', 0)\n",
    "df3['Invasion']['Aus_office'] = count_occurences(Aus_titles, 'invasion', 0)\n",
    "df3['Invasion']['UK_office'] = count_occurences(UK_titles, 'invasion', 0)\n",
    "\n",
    "\n",
    "\n",
    "df3"
   ]
  },
  {
   "cell_type": "markdown",
   "metadata": {},
   "source": [
    "### 4. Visualisation"
   ]
  },
  {
   "cell_type": "markdown",
   "metadata": {},
   "source": [
    "I visualised the dataframe I made by a bar plot to compare the repetition of each word."
   ]
  },
  {
   "cell_type": "code",
   "execution_count": 46,
   "metadata": {},
   "outputs": [
    {
     "name": "stdout",
     "output_type": "stream",
     "text": [
      "           Aus_office UK_office\n",
      "Australia+          1         0\n",
      "UK                  5         7\n",
      "Russia+           170        76\n",
      "Ukrain+           175       148\n",
      "China+              3         5\n",
      "War+              155       108\n",
      "Invasion           77        25\n",
      "Zelenskiy           3         3\n",
      "Putin              12        11\n"
     ]
    },
    {
     "data": {
      "image/png": "[encoded data removed]",
      "text/plain": [
       "<Figure size 432x288 with 1 Axes>"
      ]
     },
     "metadata": {
      "needs_background": "light"
     },
     "output_type": "display_data"
    }
   ],
   "source": [
    "# Visualise the results\n",
    "df3_transposed = df3.T\n",
    "print(df3_transposed)\n",
    "df3_transposed.plot( kind=\"bar\",title = \"Frequent Words\", xlabel = \"Words\", ylabel = \"Word Count\")\n",
    "plt.show()"
   ]
  },
  {
   "cell_type": "markdown",
   "metadata": {},
   "source": [
    "### 5. Insight"
   ]
  },
  {
   "cell_type": "markdown",
   "metadata": {},
   "source": [
    "After analysing the most frequent words, I noticed two major differences between the headlines by the office of Australia and the office of the UK. \n",
    "The name of the Ukrainian president, \"Zelenskiy\", is repeated 24 times in the Australian headlines while it has not appeared in any of the UK headlines. It's unclear why such an important name in this conflict does not show up in the UK headlines. It seems to be an intentional editorial policy in the UK office. On the other hand, \"Putin\" is used almost similarly. \n",
    "Also, \"China\" is repeated 8 times in the Australian headlines while it has been mentioned only once in the UK headlines. It could show how concerned the Australian office is with the reaction of China to this conflict.\n",
    "\n",
    "The word \"war\" has projected in the UK headlines more than twice the Australian headlines whereas the word \"invasion\" is used in both not much differently. The more repeated the word war is, the more it seems as a conflict with equal parties to it. It seems the word \"invasion\" is a more relevant word in this context as the Russian territory is not involved in any kind of armed conflict and the fight is all occurring in the Ukrainian territory.\n",
    "\n",
    "The word \"UK\" is repeated in both headlines almost the same, though the word \"Australia\" is not present in any of the UK headlines. It makes sense as the UK is one of the major players in the international scene. \n",
    "\n",
    "The use of word \"Russia\" and \"Ukraine\" in both headlines is not much different as far as the numbers are concerned, though the focus of the Australian headlines is slightly more on Russia, whereas the UK headlines have focused on Ukraine more. It might not represent any certain agenda. \n",
    "\n",
    "Note: The numbers I have mentioned in the insight are valid as of 25-04-2022. Since the API fetches live data, my numbers could be different from the new ones. \n"
   ]
  }
 ],
 "metadata": {
  "kernelspec": {
   "display_name": "Python 3",
   "language": "python",
   "name": "python3"
  },
  "language_info": {
   "codemirror_mode": {
    "name": "ipython",
    "version": 3
   },
   "file_extension": ".py",
   "mimetype": "text/x-python",
   "name": "python",
   "nbconvert_exporter": "python",
   "pygments_lexer": "ipython3",
   "version": "3.8.8"
  }
 },
 "nbformat": 4,
 "nbformat_minor": 4
}
